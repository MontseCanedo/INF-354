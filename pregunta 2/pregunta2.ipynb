{
 "cells": [
  {
   "cell_type": "markdown",
   "metadata": {},
   "source": [
    "# Pregunta 2"
   ]
  },
  {
   "cell_type": "markdown",
   "metadata": {},
   "source": [
    "Se imprimen las listas generadas y se llaman a las funciones definidas para el funcionamiento del programa de solución a la maximización de la población con algoritmo genético.\n",
    "Todo esto encapsulado en un bucle que realiza las 3 generaciones."
   ]
  },
  {
   "cell_type": "code",
   "execution_count": 90,
   "metadata": {},
   "outputs": [
    {
     "name": "stdout",
     "output_type": "stream",
     "text": [
      "GENERACION #:\n",
      "1\n",
      "\n",
      "[7, 12, 3, 11, 18, 17, 7, 1, 8, 5]\n",
      "[18, 17, 12, 11, 8, 7, 7, 5, 3, 1]\n",
      "la poblacion es: \n",
      "\n",
      "[6174, 5219, 1884, 1463, 584, 399, 399, 155, 39, 3]\n",
      "\n",
      "['10010', '10001', '1100', '1011', '1000', '111', '111', '101', '11', '1']\n",
      "[['010010', '010001', '001100', '001011', '001000', '000111', '000111', '000101', '000011', '000001']]\n",
      "[['010001', '010010', '001111', '001000', '001011', '000100', '000101', '000111', '000001', '000011']]\n",
      "[[['011001', '011010', '000111', '000000', '000011', '001100', '001101', '001111', '001001', '001011']]]\n",
      "[25, 26, 7, 0, 3, 12, 13, 15, 9, 11]\n",
      "GENERACION #:\n",
      "2\n",
      "\n",
      "[25, 26, 7, 0, 3, 12, 13, 15, 9, 11]\n",
      "[26, 25, 15, 13, 12, 11, 9, 7, 3, 0]\n",
      "la poblacion es: \n",
      "\n",
      "[18278, 16275, 3615, 2379, 1884, 1463, 819, 399, 39, 0]\n",
      "\n",
      "['11010', '11001', '1111', '1101', '1100', '1011', '1001', '111', '11', '0']\n",
      "[['011010', '011001', '001111', '001101', '001100', '001011', '001001', '000111', '000011', '000000']]\n",
      "[['011001', '011010', '001101', '001111', '001111', '001000', '001011', '000101', '000000', '000011']]\n",
      "[[['010001', '010010', '000101', '000111', '000111', '000000', '000011', '001101', '001000', '001011']]]\n",
      "[17, 18, 5, 7, 7, 0, 3, 13, 8, 11]\n",
      "GENERACION #:\n",
      "3\n",
      "\n",
      "[17, 18, 5, 7, 7, 0, 3, 13, 8, 11]\n",
      "[18, 17, 13, 11, 8, 7, 7, 5, 3, 0]\n",
      "la poblacion es: \n",
      "\n",
      "[6174, 5219, 2379, 1463, 584, 399, 399, 155, 39, 0]\n",
      "\n",
      "['10010', '10001', '1101', '1011', '1000', '111', '111', '101', '11', '0']\n",
      "[['010010', '010001', '001101', '001011', '001000', '000111', '000111', '000101', '000011', '000000']]\n",
      "[['010001', '010010', '001111', '001001', '001011', '000100', '000101', '000111', '000000', '000011']]\n",
      "[[['011001', '011010', '000111', '000001', '000011', '001100', '001101', '001111', '001000', '001011']]]\n",
      "[25, 26, 7, 1, 3, 12, 13, 15, 8, 11]\n"
     ]
    }
   ],
   "source": [
    "import random\n",
    "\n",
    "x = []\n",
    "binX = []\n",
    "comp =[]\n",
    "cruc = []\n",
    "mutac = []\n",
    "func = []\n",
    "cont = 1\n",
    "for i in range(10):\n",
    "    x.append(random.randint(0, 20))\n",
    "while(cont <= 3):\n",
    "    print(\"GENERACION #:\")\n",
    "    print(cont)\n",
    "    print(\"\")\n",
    "    print(x)\n",
    "    x.sort()\n",
    "    x.reverse()\n",
    "    print(x)\n",
    "    for i in range(10):\n",
    "        binX.append(conversion(x[i]))\n",
    "    for i in range(10):\n",
    "        func.append(x[i]*x[i]*x[i] + x[i]*x[i] + x[i])\n",
    "    print(\"la poblacion es: \\n\")\n",
    "    print(func)\n",
    "    print(\"\")\n",
    "    print(binX)\n",
    "    comp.append(complemento(binX))\n",
    "    print(comp)\n",
    "    cruc.append(cruce(comp))\n",
    "    print(cruc)\n",
    "    mutac.append(mutacion(cruc))\n",
    "    print(mutac)\n",
    "    for i in range(10):\n",
    "        x[i] = binario_a_decimal(mutac[0][0][i])\n",
    "    print(x)\n",
    "    cont+=1\n",
    "    binX = []\n",
    "    comp =[]\n",
    "    cruc = []\n",
    "    mutac = []\n",
    "    func = []"
   ]
  },
  {
   "cell_type": "markdown",
   "metadata": {},
   "source": [
    "Se definen las funciones \"conversion\", que convierte el x a binario, \"Complemento\", que es la columna de complemento de 0's, \"cruce\", que es el cruce genetico de 1's y 0's de dos en dos, \"mutación\", que es el dígito elegido mutado, y por último \"binario a decimal\", que es la conversion de nuevo a decimal del nuevo x"
   ]
  },
  {
   "cell_type": "code",
   "execution_count": 3,
   "metadata": {},
   "outputs": [],
   "source": [
    "def conversion (num):\n",
    "    lista = []\n",
    "    if num == 0:\n",
    "        resultado = \"0\"\n",
    "    else:\n",
    "        while num >= 1:\n",
    "            lista.insert(0, num%2)\n",
    "            num = num // 2\n",
    "        resultado = \"\".join(str(i) for i in lista)\n",
    "    return resultado"
   ]
  },
  {
   "cell_type": "code",
   "execution_count": 4,
   "metadata": {},
   "outputs": [],
   "source": [
    "def complemento (lista):\n",
    "    lista2 = []\n",
    "    for i in range(10):\n",
    "        while len(lista[i]) < 6:\n",
    "            lista[i] = \"0\" + lista[i]\n",
    "        lista2.append(lista[i])\n",
    "    return lista2"
   ]
  },
  {
   "cell_type": "code",
   "execution_count": 14,
   "metadata": {},
   "outputs": [],
   "source": [
    "def cruce (lista):\n",
    "    a = 0\n",
    "    ls = []\n",
    "    aux1 = \"\"\n",
    "    aux2 = \"\"\n",
    "    aux3 = \"\"\n",
    "    aux = \"\"\n",
    "    while a < 10:\n",
    "        aux2 = lista[0][a]\n",
    "        aux3 = lista[0][a + 1]\n",
    "        aux1 = aux2[:4] + aux3[4:]\n",
    "        aux = aux3[:4] + aux2[4:]\n",
    "        ls.append(aux1)\n",
    "        ls.append(aux)\n",
    "        a = a + 2\n",
    "    return ls"
   ]
  },
  {
   "cell_type": "code",
   "execution_count": 73,
   "metadata": {},
   "outputs": [],
   "source": [
    "def mutacion (lista):\n",
    "    aux = \"\"\n",
    "    i = 0\n",
    "    while i < 10:\n",
    "        aux = lista[0][i]\n",
    "        if aux[2] == '0':\n",
    "            lista[0][i] = aux[:2] + '1' + aux[3:]\n",
    "        else:\n",
    "            lista[0][i] = aux[:2] + '0' + aux[3:]\n",
    "        i = i + 1\n",
    "    return lista"
   ]
  },
  {
   "cell_type": "code",
   "execution_count": 78,
   "metadata": {},
   "outputs": [],
   "source": [
    "def binario_a_decimal(numero_binario):\n",
    "    numero_decimal = 0\n",
    "    for posicion, digito_string in enumerate(numero_binario[::-1]):\n",
    "        numero_decimal += int(digito_string) * 2 ** posicion\n",
    "    return numero_decimal"
   ]
  },
  {
   "cell_type": "code",
   "execution_count": null,
   "metadata": {},
   "outputs": [],
   "source": []
  }
 ],
 "metadata": {
  "kernelspec": {
   "display_name": "Python 3",
   "language": "python",
   "name": "python3"
  },
  "language_info": {
   "codemirror_mode": {
    "name": "ipython",
    "version": 3
   },
   "file_extension": ".py",
   "mimetype": "text/x-python",
   "name": "python",
   "nbconvert_exporter": "python",
   "pygments_lexer": "ipython3",
   "version": "3.8.5"
  }
 },
 "nbformat": 4,
 "nbformat_minor": 2
}
